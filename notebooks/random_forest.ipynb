{
 "cells": [
  {
   "cell_type": "code",
   "execution_count": 1,
   "metadata": {},
   "outputs": [
    {
     "name": "stdout",
     "output_type": "stream",
     "text": [
      "/home/elias/work/data_science\n"
     ]
    }
   ],
   "source": [
    "%cd ..\n",
    "%matplotlib nbagg"
   ]
  },
  {
   "cell_type": "code",
   "execution_count": 2,
   "metadata": {},
   "outputs": [],
   "source": [
    "from pathlib import Path\n",
    "\n",
    "import pandas as pd\n",
    "import numpy as np\n",
    "from sklearn.ensemble import RandomForestRegressor\n",
    "from sklearn.model_selection import GridSearchCV\n",
    "\n",
    "from transformer import PandasOneHotEncoder, PandasScaler\n",
    "from metrics import cindex\n",
    "from config import REG_COLS, CAT_COLS"
   ]
  },
  {
   "cell_type": "code",
   "execution_count": 3,
   "metadata": {},
   "outputs": [],
   "source": [
    "data_path = Path(\"~/datasets/tumor/x_train/features/clinical_data.csv\").expanduser()\n",
    "df = pd.read_csv(data_path)\n",
    "\n",
    "target_path = Path(\"~/datasets/tumor/y_train.csv\").expanduser()\n",
    "truth = pd.read_csv(target_path)"
   ]
  },
  {
   "cell_type": "code",
   "execution_count": 4,
   "metadata": {},
   "outputs": [],
   "source": [
    "train_df = df.head(271)\n",
    "test_df = df.tail(29)\n",
    "\n",
    "y_train_ = truth[truth.PatientID.isin(train_df.PatientID)]\n",
    "y_test_ = truth[truth.PatientID.isin(test_df.PatientID)]"
   ]
  },
  {
   "cell_type": "code",
   "execution_count": 5,
   "metadata": {},
   "outputs": [
    {
     "name": "stderr",
     "output_type": "stream",
     "text": [
      "/home/elias/work/data_science/.venv/lib/python3.6/site-packages/pandas/core/indexing.py:494: SettingWithCopyWarning: \n",
      "A value is trying to be set on a copy of a slice from a DataFrame.\n",
      "Try using .loc[row_indexer,col_indexer] = value instead\n",
      "\n",
      "See the caveats in the documentation: http://pandas.pydata.org/pandas-docs/stable/user_guide/indexing.html#returning-a-view-versus-a-copy\n",
      "  self.obj[item] = s\n",
      "/home/elias/work/data_science/.venv/lib/python3.6/site-packages/pandas/core/indexing.py:576: SettingWithCopyWarning: \n",
      "A value is trying to be set on a copy of a slice from a DataFrame.\n",
      "Try using .loc[row_indexer,col_indexer] = value instead\n",
      "\n",
      "See the caveats in the documentation: http://pandas.pydata.org/pandas-docs/stable/user_guide/indexing.html#returning-a-view-versus-a-copy\n",
      "  self.obj[item_labels[indexer[info_axis]]] = value\n"
     ]
    }
   ],
   "source": [
    "encoder = PandasOneHotEncoder(CAT_COLS).fit(train_df)\n",
    "input_scaler = PandasScaler(REG_COLS).fit(train_df)\n",
    "scaler = PandasScaler([\"SurvivalTime\"]).fit(y_train_)\n",
    "\n",
    "train_df = encoder.transform(train_df)\n",
    "train_df = input_scaler.transform(train_df)\n",
    "y_train = scaler.transform(y_train_)\n",
    "\n",
    "test_df = encoder.transform(test_df)\n",
    "test_df = input_scaler.transform(test_df)\n",
    "y_test = scaler.transform(y_test_)"
   ]
  },
  {
   "cell_type": "code",
   "execution_count": 18,
   "metadata": {},
   "outputs": [],
   "source": [
    "RANDOM_STATE = 80\n",
    "\n",
    "regressor = RandomForestRegressor(\n",
    "    n_estimators=4000,\n",
    "    criterion='mae',\n",
    "    max_depth=None,\n",
    "    min_samples_split=2,\n",
    "    min_samples_leaf=2,\n",
    "    min_weight_fraction_leaf=0.0,\n",
    "    max_features='auto',\n",
    "    max_leaf_nodes=None,\n",
    "    min_impurity_decrease=0.0,\n",
    "    min_impurity_split=None,\n",
    "    bootstrap=True,\n",
    "    oob_score=False,\n",
    "    n_jobs=-1,\n",
    "    random_state=RANDOM_STATE,\n",
    "    verbose=0,\n",
    "    warm_start=False,\n",
    "    ccp_alpha=0.0,\n",
    "    max_samples=None\n",
    ")"
   ]
  },
  {
   "cell_type": "code",
   "execution_count": 19,
   "metadata": {},
   "outputs": [],
   "source": [
    "regressor = regressor.fit(train_df[REG_COLS +  encoder.cols], y_train.SurvivalTime)"
   ]
  },
  {
   "cell_type": "code",
   "execution_count": 20,
   "metadata": {},
   "outputs": [],
   "source": [
    "cindex_train_df = y_train.copy()\n",
    "cindex_train_df.SurvivalTime = ((regressor.predict(train_df[REG_COLS +  encoder.cols])\n",
    "                                 * scaler.mapping[\"SurvivalTime\"][\"std\"])\n",
    "                                + scaler.mapping[\"SurvivalTime\"][\"mean\"])\n",
    "\n",
    "y_test_ = scaler.inverse_transform(y_test)\n",
    "cindex_test_df = y_test.copy()\n",
    "cindex_test_df.SurvivalTime = ((regressor.predict(test_df[REG_COLS +  encoder.cols])\n",
    "                                * scaler.mapping[\"SurvivalTime\"][\"std\"])\n",
    "                               + scaler.mapping[\"SurvivalTime\"][\"mean\"])"
   ]
  },
  {
   "cell_type": "code",
   "execution_count": 21,
   "metadata": {},
   "outputs": [
    {
     "name": "stdout",
     "output_type": "stream",
     "text": [
      "Train score is: 0.6234641875614646\n",
      "Test score is: 0.22772394945432606\n",
      "\n",
      "\n",
      "Cindex train score is: 0.8216430551274939\n",
      "Cindex test score is: 0.6315789473446775\n"
     ]
    }
   ],
   "source": [
    "print(f\"Train score is: {regressor.score(train_df[REG_COLS +  encoder.cols], y_train.SurvivalTime)}\")\n",
    "print(f\"Test score is: {regressor.score(test_df[REG_COLS +  encoder.cols], y_test.SurvivalTime)}\")\n",
    "\n",
    "print()\n",
    "print()\n",
    "\n",
    "print(f\"Cindex train score is: {cindex(y_train_.set_index('PatientID'), cindex_train_df.set_index('PatientID'))}\")\n",
    "print(f\"Cindex test score is: {cindex(y_test_.set_index('PatientID'), cindex_test_df.set_index('PatientID'))}\")"
   ]
  },
  {
   "cell_type": "markdown",
   "metadata": {},
   "source": [
    "## Parameters optimization"
   ]
  },
  {
   "cell_type": "code",
   "execution_count": 23,
   "metadata": {},
   "outputs": [
    {
     "data": {
      "text/plain": [
       "GridSearchCV(cv=None, error_score=nan,\n",
       "             estimator=RandomForestRegressor(bootstrap=True, ccp_alpha=0.0,\n",
       "                                             criterion='mae', max_depth=None,\n",
       "                                             max_features='auto',\n",
       "                                             max_leaf_nodes=None,\n",
       "                                             max_samples=None,\n",
       "                                             min_impurity_decrease=0.0,\n",
       "                                             min_impurity_split=None,\n",
       "                                             min_samples_leaf=2,\n",
       "                                             min_samples_split=2,\n",
       "                                             min_weight_fraction_leaf=0.0,\n",
       "                                             n_estimators=400, n_jobs=-1,\n",
       "                                             oob_score=False, random_state=23,\n",
       "                                             verbose=0, warm_start=False),\n",
       "             iid='deprecated', n_jobs=None,\n",
       "             param_grid={'min_samples_split': range(2, 6),\n",
       "                         'n_estimators': range(500, 5000, 300)},\n",
       "             pre_dispatch='2*n_jobs', refit=True, return_train_score=False,\n",
       "             scoring=None, verbose=0)"
      ]
     },
     "execution_count": 23,
     "metadata": {},
     "output_type": "execute_result"
    }
   ],
   "source": [
    "RANDOM_STATE = 23\n",
    "\n",
    "base_regressor = RandomForestRegressor(\n",
    "    n_estimators=400,\n",
    "    criterion='mae',\n",
    "    max_depth=None,\n",
    "    min_samples_split=2,\n",
    "    min_samples_leaf=2,\n",
    "    min_weight_fraction_leaf=0.0,\n",
    "    max_features='auto',\n",
    "    max_leaf_nodes=None,\n",
    "    min_impurity_decrease=0.0,\n",
    "    min_impurity_split=None,\n",
    "    bootstrap=True,\n",
    "    oob_score=False,\n",
    "    n_jobs=-1,\n",
    "    random_state=RANDOM_STATE,\n",
    "    verbose=0,\n",
    "    warm_start=False,\n",
    "    ccp_alpha=0.0,\n",
    "    max_samples=None\n",
    ")\n",
    "\n",
    "parameters = {'n_estimators':range(500, 5000, 300), 'min_samples_split':range(2, 6)}\n",
    "\n",
    "best_regressor = GridSearchCV(base_regressor, parameters)\n",
    "best_regressor.fit(train_df[REG_COLS +  encoder.cols], y_train.SurvivalTime)"
   ]
  },
  {
   "cell_type": "code",
   "execution_count": 26,
   "metadata": {},
   "outputs": [
    {
     "data": {
      "text/plain": [
       "RandomForestRegressor(bootstrap=True, ccp_alpha=0.0, criterion='mae',\n",
       "                      max_depth=None, max_features='auto', max_leaf_nodes=None,\n",
       "                      max_samples=None, min_impurity_decrease=0.0,\n",
       "                      min_impurity_split=None, min_samples_leaf=2,\n",
       "                      min_samples_split=5, min_weight_fraction_leaf=0.0,\n",
       "                      n_estimators=2600, n_jobs=-1, oob_score=False,\n",
       "                      random_state=23, verbose=0, warm_start=False)"
      ]
     },
     "execution_count": 26,
     "metadata": {},
     "output_type": "execute_result"
    }
   ],
   "source": [
    "best_regressor.best_estimator_"
   ]
  },
  {
   "cell_type": "code",
   "execution_count": 27,
   "metadata": {},
   "outputs": [
    {
     "name": "stdout",
     "output_type": "stream",
     "text": [
      "Train score is: 0.6234641875614646\n",
      "Test score is: 0.22772394945432606\n",
      "\n",
      "\n",
      "Cindex train score is: 0.8095549738216778\n",
      "Cindex test score is: 0.6729323308017694\n"
     ]
    }
   ],
   "source": [
    "cindex_train_df = y_train.copy()\n",
    "cindex_train_df.SurvivalTime = ((best_regressor.best_estimator_.predict(train_df[REG_COLS +  encoder.cols])\n",
    "                                 * scaler.mapping[\"SurvivalTime\"][\"std\"])\n",
    "                                + scaler.mapping[\"SurvivalTime\"][\"mean\"])\n",
    "\n",
    "y_test_ = scaler.inverse_transform(y_test)\n",
    "cindex_test_df = y_test.copy()\n",
    "cindex_test_df.SurvivalTime = ((best_regressor.best_estimator_.predict(test_df[REG_COLS +  encoder.cols])\n",
    "                                * scaler.mapping[\"SurvivalTime\"][\"std\"])\n",
    "                               + scaler.mapping[\"SurvivalTime\"][\"mean\"])\n",
    "\n",
    "print(f\"Train score is: {regressor.score(train_df[REG_COLS +  encoder.cols], y_train.SurvivalTime)}\")\n",
    "print(f\"Test score is: {regressor.score(test_df[REG_COLS +  encoder.cols], y_test.SurvivalTime)}\")\n",
    "\n",
    "print()\n",
    "print()\n",
    "\n",
    "print(f\"Cindex train score is: {cindex(y_train_.set_index('PatientID'), cindex_train_df.set_index('PatientID'))}\")\n",
    "print(f\"Cindex test score is: {cindex(y_test_.set_index('PatientID'), cindex_test_df.set_index('PatientID'))}\")"
   ]
  },
  {
   "cell_type": "code",
   "execution_count": null,
   "metadata": {},
   "outputs": [],
   "source": []
  }
 ],
 "metadata": {
  "kernelspec": {
   "display_name": "Python 3",
   "language": "python",
   "name": "python3"
  },
  "language_info": {
   "codemirror_mode": {
    "name": "ipython",
    "version": 3
   },
   "file_extension": ".py",
   "mimetype": "text/x-python",
   "name": "python",
   "nbconvert_exporter": "python",
   "pygments_lexer": "ipython3",
   "version": "3.6.9"
  }
 },
 "nbformat": 4,
 "nbformat_minor": 4
}
